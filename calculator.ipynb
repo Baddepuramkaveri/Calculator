{
  "nbformat": 4,
  "nbformat_minor": 0,
  "metadata": {
    "colab": {
      "provenance": [],
      "authorship_tag": "ABX9TyN5t+Q/RjgM5C/RivAg7g7h",
      "include_colab_link": true
    },
    "kernelspec": {
      "name": "python3",
      "display_name": "Python 3"
    },
    "language_info": {
      "name": "python"
    }
  },
  "cells": [
    {
      "cell_type": "markdown",
      "metadata": {
        "id": "view-in-github",
        "colab_type": "text"
      },
      "source": [
        "<a href=\"https://colab.research.google.com/github/Baddepuramkaveri/Calculator/blob/main/calculator.ipynb\" target=\"_parent\"><img src=\"https://colab.research.google.com/assets/colab-badge.svg\" alt=\"Open In Colab\"/></a>"
      ]
    },
    {
      "cell_type": "code",
      "source": [
        "#defining calculator\n",
        "def calculator():\n",
        "  print(\"Home\")\n",
        "  print(\"Select Operation:\")\n",
        "  print(\"1.Addition:\")\n",
        "  print(\"2.Subtraction\")\n",
        "  print(\"3.Multiplication\")\n",
        "  print(\"4.Division\")\n",
        "  print(\"5.Modulus\")"
      ],
      "metadata": {
        "id": "mr7fTo0DXVXQ"
      },
      "execution_count": 2,
      "outputs": []
    },
    {
      "cell_type": "code",
      "source": [
        "#defining arithmetic operators\n",
        "\n",
        "#addition\n",
        "def add(x,y):\n",
        "  return x + y\n",
        "\n",
        "#Subtraction\n",
        "def subtract(x,y):\n",
        "  return x - y\n",
        "\n",
        "#Multiply\n",
        "def product(x,y):\n",
        "  return x * y\n",
        "\n",
        "#Division\n",
        "def divide(x,y):\n",
        "  if y==0:\n",
        "    return \"Error! Undefined value.\"\n",
        "  else:\n",
        "    return x / y\n",
        "\n",
        "#modulus\n",
        "def modulus():\n",
        "  if y==0:\n",
        "    return \"Error! Undefined value.\"\n",
        "  else:\n",
        "    return x %ay"
      ],
      "metadata": {
        "id": "GgvosII-YJOQ"
      },
      "execution_count": 3,
      "outputs": []
    },
    {
      "cell_type": "code",
      "execution_count": 1,
      "metadata": {
        "colab": {
          "base_uri": "https://localhost:8080/"
        },
        "id": "Ahw2t7LkPyfg",
        "outputId": "2d2466dc-b1ef-4305-f03c-5c8c54ff3543"
      },
      "outputs": [
        {
          "output_type": "stream",
          "name": "stdout",
          "text": [
            "Home\n",
            "Select Operation:\n",
            "1.Addition:\n",
            "2.Subtraction\n",
            "3.Multiplication\n",
            "4.Division\n",
            "5.Modulus\n",
            "Enter your choice (1/2/3/4/5): 7\n",
            "Invalid Option\n",
            "Home\n",
            "Select Operation:\n",
            "1.Addition:\n",
            "2.Subtraction\n",
            "3.Multiplication\n",
            "4.Division\n",
            "5.Modulus\n",
            "Enter your choice (1/2/3/4/5): 3\n",
            "Enter 1st number: 7\n",
            "Enter 2nd number: 9\n",
            "Result is:  63.0\n"
          ]
        }
      ],
      "source": [
        "#creating a simple calculator\n",
        "\n",
        "def add(x,y):\n",
        "  return x + y\n",
        "\n",
        "def subtract(x,y):\n",
        "  return x - y\n",
        "\n",
        "def product(x,y):\n",
        "  return x * y\n",
        "\n",
        "def divide(x,y):\n",
        "  if y==0:\n",
        "    return \"Error! Undefined value.\"\n",
        "  else:\n",
        "    return x / y\n",
        "\n",
        "def modulus(x,y):\n",
        "  if y==0:\n",
        "    return \"Error! Undefined value.\"\n",
        "  else:\n",
        "    return x % y\n",
        "\n",
        "\n",
        "def calculator():\n",
        "  print(\"Home\")\n",
        "  print(\"Select Operation:\")\n",
        "  print(\"1.Addition:\")\n",
        "  print(\"2.Subtraction\")\n",
        "  print(\"3.Multiplication\")\n",
        "  print(\"4.Division\")\n",
        "  print(\"5.Modulus\")\n",
        "\n",
        "while True:\n",
        "  calculator()\n",
        "  choice = input(\"Enter your choice (1/2/3/4/5): \")\n",
        "\n",
        "\n",
        "  if choice in ('1','2','3','4','5'):\n",
        "    a = float(input(\"Enter 1st number: \"))\n",
        "    b = float(input(\"Enter 2nd number: \"))\n",
        "\n",
        "    if choice == '1':\n",
        "      print(\"Result is: \",add(a,b))\n",
        "\n",
        "    elif choice == '2':\n",
        "      print(\"Result is: \",subtract(a,b))\n",
        "\n",
        "    elif choice == '3':\n",
        "      print(\"Result is: \",product(a,b))\n",
        "\n",
        "    elif choice == '4':\n",
        "      print(\"Result is: \",divide(a,b))\n",
        "\n",
        "    elif choice == '5':\n",
        "      print(\"Result is: \",modulus(a,b))\n",
        "\n",
        "    break\n",
        "  else:\n",
        "    print(\"Invalid Option\")"
      ]
    }
  ]
}